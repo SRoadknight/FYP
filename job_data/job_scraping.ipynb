{
 "cells": [
  {
   "cell_type": "code",
   "execution_count": null,
   "id": "8f5c6811-3e10-45f4-addc-7eb472d79bc1",
   "metadata": {},
   "outputs": [],
   "source": [
    "import requests\n",
    "from bs4 import BeautifulSoup\n",
    "import sys\n",
    "import json\n",
    "\n"
   ]
  },
  {
   "cell_type": "code",
   "execution_count": null,
   "id": "f267afc9-0b67-45ba-ae16-97cd02ce6c54",
   "metadata": {},
   "outputs": [],
   "source": [
    "headers = {\n",
    "    'User-Agent': 'Mozilla/5.0 (Windows NT 10.0; Win64; x64; rv:106.0) Gecko/20100101 Firefox/106.0',\n",
    "    'Accept': 'text/html,application/xhtml+xml,application/xml;q=0.9,image/avif,image/webp,*/*;q=0.8',\n",
    "    'Accept-Language': 'en-US,en;q=0.5',\n",
    "    # 'Accept-Encoding': 'gzip, deflate, br',\n",
    "    'DNT': '1',\n",
    "    'Connection': 'keep-alive',\n",
    "    'Upgrade-Insecure-Requests': '1',\n",
    "    'Sec-Fetch-Dest': 'document',\n",
    "    'Sec-Fetch-Mode': 'navigate',\n",
    "    'Sec-Fetch-Site': 'none',\n",
    "    'Sec-Fetch-User': '?1',\n",
    "}"
   ]
  },
  {
   "cell_type": "code",
   "execution_count": null,
   "id": "95844c34-ecf9-42ec-acb7-5623398941a9",
   "metadata": {},
   "outputs": [],
   "source": [
    "# Set to track the URLs (unique identifiers) of jobs already added\n",
    "seen_urls = set()\n"
   ]
  },
  {
   "cell_type": "code",
   "execution_count": null,
   "id": "bf57d2bc-d276-4ee3-8152-dea620ad87e9",
   "metadata": {},
   "outputs": [],
   "source": [
    "def fetch_body_content(url, headers):\n",
    "    try:\n",
    "        response = requests.get(url=url, headers=headers)\n",
    "        response.raise_for_status()\n",
    "\n",
    "        soup = BeautifulSoup(response.text, 'html.parser')\n",
    "        body_content_div = soup.find('div', class_=\"body-content\")\n",
    "        \n",
    "        if body_content_div:\n",
    "            # Getting the text within the body-content class\n",
    "            return body_content_div.get_text(strip=True)  # or .prettify() for HTML\n",
    "    except requests.RequestException:\n",
    "        print(f\"Failed to retrieve body content from {url}\")\n",
    "\n",
    "\n",
    "    return None\n",
    "\n",
    "    \n",
    "\n",
    "def scrape_sector(url, headers, seen_urls):\n",
    "    # Initialise a list to hold the scraped data\n",
    "    job_listings = []\n",
    "    \n",
    "    try:\n",
    "        response = requests.get(url=url, headers=headers)\n",
    "        response.raise_for_status()\n",
    "\n",
    "        soup = BeautifulSoup(response.text, 'html.parser')\n",
    "        a_tags = soup.find_all('a', class_=\"tw-block tw-text-base tw-font-semibold\")\n",
    "\n",
    "        \n",
    "        for tag in a_tags:\n",
    "            job_url = tag['href']\n",
    "\n",
    "            if job_url in seen_urls:\n",
    "                continue\n",
    "\n",
    "            body_content = fetch_body_content(url=job_url, headers=headers)\n",
    "            body_content_fetched = body_content is not None\n",
    "\n",
    "            if body_content_fetched:\n",
    "\n",
    "                job = {\n",
    "                    'url': job_url,\n",
    "                    'title': tag.get_text(strip=True),\n",
    "                }\n",
    "                if 'title' in tag.attrs:\n",
    "                    job['Description'] = tag['title']\n",
    "    \n",
    "                # Extract additional info from the <ul>\n",
    "                ul = tag.find_next_sibling('ul', class_=\"tw-pl-0 tw-mt-0 tw-mb-0 tw-space-y-1.5 tw-text-xs tw-font-medium tw-py-2 tw-text-gray-500 tw-list-none\")\n",
    "                if ul:\n",
    "                    for li in ul.find_all('li'):\n",
    "                        key = li.find('span').get_text(strip=True).rstrip(':')\n",
    "                        value = li.get_text(strip=True).replace(key + ':', '').strip()\n",
    "                        job[key] = value  \n",
    "                job['body_content'] = body_content\n",
    "    \n",
    "    \n",
    "                job_listings.append(job)\n",
    "                # Add the URL to the set of seen URLs\n",
    "                seen_urls.add(job_url)\n",
    "               \n",
    "\n",
    "    except requests.exceptions.RequestException as e:\n",
    "        print(f\"Request failed for {url}: {e}\")\n",
    "    except Exception as e:\n",
    "        print(f\"An error occurred for {url}: {e}\")\n",
    "    return job_listings\n",
    "\n",
    "\n"
   ]
  },
  {
   "cell_type": "code",
   "execution_count": null,
   "id": "8e8658c3-bb78-4e4b-a6ca-8adc487ae2e5",
   "metadata": {},
   "outputs": [],
   "source": [
    "# List of URLs to scrape\n",
    "graduate_job_sectors_urls = [\n",
    "    \"https://www.gradcracker.com/search/aerospace/engineering-graduate-jobs\", \n",
    "    \"https://www.gradcracker.com/search/chemical-process/engineering-graduate-jobs\",\n",
    "    \"https://www.gradcracker.com/search/civil-building/engineering-graduate-jobs\",\n",
    "    \"https://www.gradcracker.com/search/computing-technology/graduate-jobs\",\n",
    "    \"https://www.gradcracker.com/search/electronic-electrical/engineering-graduate-jobs\",\n",
    "    \"https://www.gradcracker.com/search/maths-business/graduate-jobs\",\n",
    "    \"https://www.gradcracker.com/search/mechanical-manufacturing/engineering-graduate-jobs\",\n",
    "    \"https://www.gradcracker.com/search/science/graduate-jobs\"]"
   ]
  },
  {
   "cell_type": "code",
   "execution_count": null,
   "id": "57d95849-aaa4-4944-976b-3d8eed43e96a",
   "metadata": {},
   "outputs": [],
   "source": [
    "# Initialise the graduate_listings list that will hold the graduate job listings scraped\n",
    "# This will be done sector by sector over time\n",
    "graduate_listings = [] "
   ]
  },
  {
   "cell_type": "code",
   "execution_count": null,
   "id": "e9218025-c6af-4e9b-af33-fc3e6a83fe33",
   "metadata": {},
   "outputs": [],
   "source": [
    "graduate_listings.extend(scrape_sector(graduate_job_sectors_urls[0], headers=headers, seen_urls=seen_urls)) "
   ]
  },
  {
   "cell_type": "code",
   "execution_count": null,
   "id": "102432ad-8587-420d-a360-abe8cd78b176",
   "metadata": {},
   "outputs": [],
   "source": [
    "graduate_listings.extend(scrape_sector(graduate_job_sectors_urls[1], headers=headers, seen_urls=seen_urls)) "
   ]
  },
  {
   "cell_type": "code",
   "execution_count": null,
   "id": "80453698-c5d8-49f4-b586-0c5abb99b7e6",
   "metadata": {},
   "outputs": [],
   "source": [
    "graduate_listings.extend(scrape_sector(graduate_job_sectors_urls[2], headers=headers, seen_urls=seen_urls))"
   ]
  },
  {
   "cell_type": "code",
   "execution_count": null,
   "id": "587a2d0d-7bbb-42e8-a05e-4ca157a5ae65",
   "metadata": {},
   "outputs": [],
   "source": [
    "graduate_listings.extend(scrape_sector(graduate_job_sectors_urls[3], headers=headers, seen_urls=seen_urls))"
   ]
  },
  {
   "cell_type": "code",
   "execution_count": null,
   "id": "1c25f7f6-ffaa-4bbf-9af2-9f393a2c716d",
   "metadata": {},
   "outputs": [],
   "source": [
    "graduate_listings.extend(scrape_sector(graduate_job_sectors_urls[4], headers=headers, seen_urls=seen_urls))"
   ]
  },
  {
   "cell_type": "code",
   "execution_count": null,
   "id": "271e9dca-0b91-452f-9920-ff28550dbe72",
   "metadata": {},
   "outputs": [],
   "source": [
    "graduate_listings.extend(scrape_sector(graduate_job_sectors_urls[5], headers=headers, seen_urls=seen_urls))"
   ]
  },
  {
   "cell_type": "code",
   "execution_count": null,
   "id": "09b50d78-4055-4890-bda5-57820ed528d9",
   "metadata": {},
   "outputs": [],
   "source": [
    "graduate_listings.extend(scrape_sector(graduate_job_sectors_urls[6], headers=headers, seen_urls=seen_urls))"
   ]
  },
  {
   "cell_type": "code",
   "execution_count": null,
   "id": "a9fa0071-9d1d-416b-a604-daa1fb4497ec",
   "metadata": {},
   "outputs": [],
   "source": [
    "graduate_listings.extend(scrape_sector(graduate_job_sectors_urls[7], headers=headers, seen_urls=seen_urls))"
   ]
  },
  {
   "cell_type": "code",
   "execution_count": null,
   "id": "9b202098-c746-4380-b203-9c50706064f0",
   "metadata": {
    "scrolled": true
   },
   "outputs": [],
   "source": [
    "graduate_listings"
   ]
  },
  {
   "cell_type": "code",
   "execution_count": null,
   "id": "5dce303e-8008-43e7-96f5-63a85aa3555b",
   "metadata": {},
   "outputs": [],
   "source": [
    "with open('graduate_listings_full.json', 'w') as json_file:\n",
    "    json.dump(graduate_listings, json_file, indent=4)"
   ]
  },
  {
   "cell_type": "code",
   "execution_count": null,
   "id": "d656c0ab-f210-4ffa-a704-66860675740a",
   "metadata": {},
   "outputs": [],
   "source": [
    "palcement_internship_sector_urls = [\n",
    "    \"https://www.gradcracker.com/search/aerospace/engineering-work-placements-internships\",\n",
    "    \"https://www.gradcracker.com/search/chemical-process/engineering-work-placements-internships\",\n",
    "    \"https://www.gradcracker.com/search/civil-building/engineering-work-placements-internships\",\n",
    "    \"https://www.gradcracker.com/search/computing-technology/work-placements-internships\",\n",
    "    \"https://www.gradcracker.com/search/electronic-electrical/engineering-work-placements-internships\",\n",
    "    \"https://www.gradcracker.com/search/maths-business/work-placements-internships\",\n",
    "    \"https://www.gradcracker.com/search/mechanical-manufacturing/engineering-work-placements-internships\",\n",
    "    \"https://www.gradcracker.com/search/science/work-placements-internships\"\n",
    "]"
   ]
  },
  {
   "cell_type": "code",
   "execution_count": null,
   "id": "fe2795a0-e5b0-49ae-a8f0-b5479dfcf56c",
   "metadata": {},
   "outputs": [],
   "source": [
    "# Initialise the placement_internship_list as previously done for graduate_listings\n",
    "placement_internship_listings = []"
   ]
  },
  {
   "cell_type": "code",
   "execution_count": null,
   "id": "268620c3-2653-4a84-9d36-34aa5994dc4b",
   "metadata": {},
   "outputs": [],
   "source": [
    "placement_internship_listings.extend(scrape_sector(palcement_internship_sector_urls[0], headers=headers, seen_urls=seen_urls))"
   ]
  },
  {
   "cell_type": "code",
   "execution_count": null,
   "id": "6d300f5e-3cf6-449f-8bfe-fdf37aecf791",
   "metadata": {},
   "outputs": [],
   "source": [
    "placement_internship_listings.extend(scrape_sector(palcement_internship_sector_urls[1], headers=headers, seen_urls=seen_urls))"
   ]
  },
  {
   "cell_type": "code",
   "execution_count": null,
   "id": "30c3ebc6-39f0-45ce-8f52-22d9f1522da2",
   "metadata": {},
   "outputs": [],
   "source": [
    "placement_internship_listings.extend(scrape_sector(palcement_internship_sector_urls[2], headers=headers, seen_urls=seen_urls))"
   ]
  },
  {
   "cell_type": "code",
   "execution_count": null,
   "id": "8eb5a6c1-5f4e-4b8f-8eed-278b8d9cdc2b",
   "metadata": {},
   "outputs": [],
   "source": [
    "placement_internship_listings.extend(scrape_sector(palcement_internship_sector_urls[3], headers=headers, seen_urls=seen_urls))"
   ]
  },
  {
   "cell_type": "code",
   "execution_count": null,
   "id": "0a6e53fb-cef9-4f0f-ae30-b83d2225d568",
   "metadata": {},
   "outputs": [],
   "source": [
    "placement_internship_listings.extend(scrape_sector(palcement_internship_sector_urls[4], headers=headers, seen_urls=seen_urls))"
   ]
  },
  {
   "cell_type": "code",
   "execution_count": null,
   "id": "79fd683f-ec52-4c99-99a2-a17b900b482e",
   "metadata": {},
   "outputs": [],
   "source": [
    "placement_internship_listings.extend(scrape_sector(palcement_internship_sector_urls[5], headers=headers, seen_urls=seen_urls))"
   ]
  },
  {
   "cell_type": "code",
   "execution_count": null,
   "id": "cc95308f-fecf-41ff-bb53-04b7e7767986",
   "metadata": {},
   "outputs": [],
   "source": [
    "placement_internship_listings.extend(scrape_sector(palcement_internship_sector_urls[6], headers=headers, seen_urls=seen_urls))"
   ]
  },
  {
   "cell_type": "code",
   "execution_count": null,
   "id": "834aa315-fb4c-4077-b00f-a931d398f6e7",
   "metadata": {},
   "outputs": [],
   "source": [
    "placement_internship_listings.extend(scrape_sector(palcement_internship_sector_urls[7], headers=headers, seen_urls=seen_urls))"
   ]
  },
  {
   "cell_type": "code",
   "execution_count": null,
   "id": "be948574-65c5-4742-af5d-f1d306266638",
   "metadata": {},
   "outputs": [],
   "source": [
    "import json \n",
    "\n",
    "with open('placement_internship_listings_full.json', 'w') as json_file:\n",
    "    json.dump(placement_internship_listings, json_file, indent=4)"
   ]
  }
 ],
 "metadata": {
  "kernelspec": {
   "display_name": "Python 3 (ipykernel)",
   "language": "python",
   "name": "python3"
  },
  "language_info": {
   "codemirror_mode": {
    "name": "ipython",
    "version": 3
   },
   "file_extension": ".py",
   "mimetype": "text/x-python",
   "name": "python",
   "nbconvert_exporter": "python",
   "pygments_lexer": "ipython3",
   "version": "3.11.7"
  }
 },
 "nbformat": 4,
 "nbformat_minor": 5
}
